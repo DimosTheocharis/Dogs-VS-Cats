{
 "cells": [
  {
   "cell_type": "markdown",
   "id": "3f46ffdc",
   "metadata": {},
   "source": [
    "# Setup"
   ]
  },
  {
   "cell_type": "markdown",
   "id": "63a63f5f",
   "metadata": {},
   "source": [
    "Make sure that all subfolders are loaded and ready to use"
   ]
  },
  {
   "cell_type": "code",
   "execution_count": 1,
   "id": "de072a19",
   "metadata": {},
   "outputs": [],
   "source": [
    "import sys, os\n",
    "sys.path.append(os.path.abspath(\"..\"))  # add parent directory (project root)"
   ]
  },
  {
   "cell_type": "markdown",
   "id": "96992de8",
   "metadata": {},
   "source": [
    "Import modules, components, functions etc"
   ]
  },
  {
   "cell_type": "code",
   "execution_count": 2,
   "id": "1d42ec4f",
   "metadata": {},
   "outputs": [],
   "source": [
    "import random\n",
    "import torch\n",
    "import torch.nn as nn\n",
    "import matplotlib.pyplot as plt\n",
    "from time import time\n",
    "\n",
    "from src.utils.basics import displayImage, measureAccuracy, loadModel\n",
    "from src.utils.data import loadData, extractDataFromLoader\n",
    "from src.config import Config\n",
    "from src.cnn import ConvolutionalNeuralNetwork, LayerType, ActivationFunction\n",
    "from src.logger import Logger\n",
    "from src.train import runExperiment\n",
    "from src.test import testModel\n",
    "from src.architectures.small import SmallArchitecture\n",
    "from src.architectures.medium import MediumArchitecture\n",
    "from src.architectures.mediumRegularized import MediumRegularizedArchitecture\n",
    "from src.architectures.doubleBarrelRegularized import DoubleBarrelRegularizedArchitecture"
   ]
  },
  {
   "cell_type": "markdown",
   "id": "cd02b6d8",
   "metadata": {},
   "source": [
    "Load data"
   ]
  },
  {
   "cell_type": "code",
   "execution_count": 3,
   "id": "d0017f2b",
   "metadata": {},
   "outputs": [
    {
     "name": "stdout",
     "output_type": "stream",
     "text": [
      "c:\\Users\\dimos\\Desktop\\Δημοσθένης\\Programming\\Dogs-VS-Cats\n",
      "5\n"
     ]
    },
    {
     "name": "stderr",
     "output_type": "stream",
     "text": [
      "C:\\Users\\dimos\\AppData\\Roaming\\Python\\Python312\\site-packages\\torch\\utils\\data\\dataset.py:473: UserWarning: Length of split at index 1 is 0. This might result in an empty dataset.\n",
      "  warnings.warn(\n"
     ]
    },
    {
     "ename": "ValueError",
     "evalue": "num_samples should be a positive integer value, but got num_samples=0",
     "output_type": "error",
     "traceback": [
      "\u001b[1;31m---------------------------------------------------------------------------\u001b[0m",
      "\u001b[1;31mValueError\u001b[0m                                Traceback (most recent call last)",
      "Cell \u001b[1;32mIn[3], line 1\u001b[0m\n\u001b[1;32m----> 1\u001b[0m trainLoader, validationLoader, testLoader \u001b[38;5;241m=\u001b[39m \u001b[43mloadData\u001b[49m\u001b[43m(\u001b[49m\u001b[43mConfig\u001b[49m\u001b[38;5;241;43m.\u001b[39;49m\u001b[43mDATASET_PATH\u001b[49m\u001b[43m,\u001b[49m\u001b[43m \u001b[49m\u001b[43m[\u001b[49m\u001b[43mConfig\u001b[49m\u001b[38;5;241;43m.\u001b[39;49m\u001b[43mTRAINING_SPLIT\u001b[49m\u001b[43m,\u001b[49m\u001b[43m \u001b[49m\u001b[43mConfig\u001b[49m\u001b[38;5;241;43m.\u001b[39;49m\u001b[43mVALIDATION_SPLIT\u001b[49m\u001b[43m,\u001b[49m\u001b[43m \u001b[49m\u001b[43mConfig\u001b[49m\u001b[38;5;241;43m.\u001b[39;49m\u001b[43mTEST_SPLIT\u001b[49m\u001b[43m]\u001b[49m\u001b[43m,\u001b[49m\u001b[43m \u001b[49m\u001b[43mbatchSize\u001b[49m\u001b[38;5;241;43m=\u001b[39;49m\u001b[43mConfig\u001b[49m\u001b[38;5;241;43m.\u001b[39;49m\u001b[43mBATCH_SIZE\u001b[49m\u001b[43m)\u001b[49m\n\u001b[0;32m      3\u001b[0m \u001b[38;5;66;03m# Combine all batches of the validation set into single tensors\u001b[39;00m\n\u001b[0;32m      4\u001b[0m validationImages, validationLabels \u001b[38;5;241m=\u001b[39m extractDataFromLoader(validationLoader)\n",
      "File \u001b[1;32mc:\\Users\\dimos\\Desktop\\Δημοσθένης\\Programming\\Dogs-VS-Cats\\src\\utils\\data.py:43\u001b[0m, in \u001b[0;36mloadData\u001b[1;34m(folderPath, splitPercentages, batchSize)\u001b[0m\n\u001b[0;32m     39\u001b[0m datasets: \u001b[38;5;28mlist\u001b[39m[torchvision\u001b[38;5;241m.\u001b[39mdatasets\u001b[38;5;241m.\u001b[39mImageFolder] \u001b[38;5;241m=\u001b[39m random_split(dataset, splitPercentages)\n\u001b[0;32m     41\u001b[0m \u001b[38;5;66;03m# Create DataLoader objects for each dataset\u001b[39;00m\n\u001b[0;32m     42\u001b[0m loaders: \u001b[38;5;28mlist\u001b[39m[DataLoader] \u001b[38;5;241m=\u001b[39m [\n\u001b[1;32m---> 43\u001b[0m     \u001b[43mDataLoader\u001b[49m\u001b[43m(\u001b[49m\u001b[43mdataset\u001b[49m\u001b[43m,\u001b[49m\u001b[43m \u001b[49m\u001b[43mbatch_size\u001b[49m\u001b[38;5;241;43m=\u001b[39;49m\u001b[43mbatchSize\u001b[49m\u001b[43m,\u001b[49m\u001b[43m \u001b[49m\u001b[43mshuffle\u001b[49m\u001b[38;5;241;43m=\u001b[39;49m\u001b[38;5;28;43;01mTrue\u001b[39;49;00m\u001b[43m)\u001b[49m \u001b[38;5;28;01mfor\u001b[39;00m dataset \u001b[38;5;129;01min\u001b[39;00m datasets\n\u001b[0;32m     44\u001b[0m ]\n\u001b[0;32m     46\u001b[0m \u001b[38;5;28;01mreturn\u001b[39;00m loaders\n",
      "File \u001b[1;32m~\\AppData\\Roaming\\Python\\Python312\\site-packages\\torch\\utils\\data\\dataloader.py:376\u001b[0m, in \u001b[0;36mDataLoader.__init__\u001b[1;34m(self, dataset, batch_size, shuffle, sampler, batch_sampler, num_workers, collate_fn, pin_memory, drop_last, timeout, worker_init_fn, multiprocessing_context, generator, prefetch_factor, persistent_workers, pin_memory_device)\u001b[0m\n\u001b[0;32m    374\u001b[0m \u001b[38;5;28;01melse\u001b[39;00m:  \u001b[38;5;66;03m# map-style\u001b[39;00m\n\u001b[0;32m    375\u001b[0m     \u001b[38;5;28;01mif\u001b[39;00m shuffle:\n\u001b[1;32m--> 376\u001b[0m         sampler \u001b[38;5;241m=\u001b[39m \u001b[43mRandomSampler\u001b[49m\u001b[43m(\u001b[49m\u001b[43mdataset\u001b[49m\u001b[43m,\u001b[49m\u001b[43m \u001b[49m\u001b[43mgenerator\u001b[49m\u001b[38;5;241;43m=\u001b[39;49m\u001b[43mgenerator\u001b[49m\u001b[43m)\u001b[49m  \u001b[38;5;66;03m# type: ignore[arg-type]\u001b[39;00m\n\u001b[0;32m    377\u001b[0m     \u001b[38;5;28;01melse\u001b[39;00m:\n\u001b[0;32m    378\u001b[0m         sampler \u001b[38;5;241m=\u001b[39m SequentialSampler(dataset)  \u001b[38;5;66;03m# type: ignore[arg-type]\u001b[39;00m\n",
      "File \u001b[1;32m~\\AppData\\Roaming\\Python\\Python312\\site-packages\\torch\\utils\\data\\sampler.py:164\u001b[0m, in \u001b[0;36mRandomSampler.__init__\u001b[1;34m(self, data_source, replacement, num_samples, generator)\u001b[0m\n\u001b[0;32m    159\u001b[0m     \u001b[38;5;28;01mraise\u001b[39;00m \u001b[38;5;167;01mTypeError\u001b[39;00m(\n\u001b[0;32m    160\u001b[0m         \u001b[38;5;124mf\u001b[39m\u001b[38;5;124m\"\u001b[39m\u001b[38;5;124mreplacement should be a boolean value, but got replacement=\u001b[39m\u001b[38;5;132;01m{\u001b[39;00m\u001b[38;5;28mself\u001b[39m\u001b[38;5;241m.\u001b[39mreplacement\u001b[38;5;132;01m}\u001b[39;00m\u001b[38;5;124m\"\u001b[39m\n\u001b[0;32m    161\u001b[0m     )\n\u001b[0;32m    163\u001b[0m \u001b[38;5;28;01mif\u001b[39;00m \u001b[38;5;129;01mnot\u001b[39;00m \u001b[38;5;28misinstance\u001b[39m(\u001b[38;5;28mself\u001b[39m\u001b[38;5;241m.\u001b[39mnum_samples, \u001b[38;5;28mint\u001b[39m) \u001b[38;5;129;01mor\u001b[39;00m \u001b[38;5;28mself\u001b[39m\u001b[38;5;241m.\u001b[39mnum_samples \u001b[38;5;241m<\u001b[39m\u001b[38;5;241m=\u001b[39m \u001b[38;5;241m0\u001b[39m:\n\u001b[1;32m--> 164\u001b[0m     \u001b[38;5;28;01mraise\u001b[39;00m \u001b[38;5;167;01mValueError\u001b[39;00m(\n\u001b[0;32m    165\u001b[0m         \u001b[38;5;124mf\u001b[39m\u001b[38;5;124m\"\u001b[39m\u001b[38;5;124mnum_samples should be a positive integer value, but got num_samples=\u001b[39m\u001b[38;5;132;01m{\u001b[39;00m\u001b[38;5;28mself\u001b[39m\u001b[38;5;241m.\u001b[39mnum_samples\u001b[38;5;132;01m}\u001b[39;00m\u001b[38;5;124m\"\u001b[39m\n\u001b[0;32m    166\u001b[0m     )\n",
      "\u001b[1;31mValueError\u001b[0m: num_samples should be a positive integer value, but got num_samples=0"
     ]
    }
   ],
   "source": [
    "trainLoader, validationLoader, testLoader = loadData(Config.DATASET_PATH, [Config.TRAINING_SPLIT, Config.VALIDATION_SPLIT, Config.TEST_SPLIT], batchSize=Config.BATCH_SIZE)\n",
    "\n",
    "# Combine all batches of the validation set into single tensors\n",
    "validationImages, validationLabels = extractDataFromLoader(validationLoader)"
   ]
  },
  {
   "cell_type": "markdown",
   "id": "f3c64530",
   "metadata": {},
   "source": [
    "# Running"
   ]
  },
  {
   "cell_type": "markdown",
   "id": "a1c3871a",
   "metadata": {},
   "source": [
    "## Define the experiment"
   ]
  },
  {
   "cell_type": "markdown",
   "id": "6d11077d",
   "metadata": {},
   "source": [
    "### Medium architecture"
   ]
  },
  {
   "cell_type": "code",
   "execution_count": null,
   "id": "750abaa6",
   "metadata": {},
   "outputs": [],
   "source": [
    "# model = ConvolutionalNeuralNetwork(\n",
    "#         architecture=SmallArchitecture(),\n",
    "#         epochs=2,\n",
    "#         learningRate=0.001,\n",
    "#         batchSize=Config.BATCH_SIZE,\n",
    "#         weightDecay=0.0001,\n",
    "#     )\n",
    "\n",
    "# loadModel(model, \"experiments/experiment_01 2025-09-08 15.26/model.pth\")\n",
    "# testModel(model, testLoader)"
   ]
  },
  {
   "cell_type": "code",
   "execution_count": null,
   "id": "649aae2a",
   "metadata": {},
   "outputs": [],
   "source": [
    "# experimentId = 2\n",
    "# runExperiment(\n",
    "#     experimentId=experimentId,\n",
    "#     model=ConvolutionalNeuralNetwork(\n",
    "#         architecture=MediumArchitecture(),\n",
    "#         epochs=30,\n",
    "#         learningRate=0.001,\n",
    "#         batchSize=Config.BATCH_SIZE,\n",
    "#         weightDecay=0.0001,\n",
    "#     ),\n",
    "#     trainLoader=trainLoader,\n",
    "#     validationImages=validationImages,\n",
    "#     validationLabels=validationLabels,\n",
    "#     earlyStopping=Config.EARLY_STOPPING\n",
    "# )"
   ]
  },
  {
   "cell_type": "markdown",
   "id": "77987b6b",
   "metadata": {},
   "source": [
    "### Medium architecture with regularization"
   ]
  },
  {
   "cell_type": "code",
   "execution_count": null,
   "id": "1284863a",
   "metadata": {},
   "outputs": [],
   "source": [
    "# experimentId = 3\n",
    "# runExperiment(\n",
    "#     experimentId=experimentId,\n",
    "#     model=ConvolutionalNeuralNetwork(\n",
    "#         architecture=MediumRegularizedArchitecture(),\n",
    "#         epochs=70,\n",
    "#         learningRate=0.001,\n",
    "#         batchSize=Config.BATCH_SIZE,\n",
    "#         weightDecay=0.0001,\n",
    "#     ),\n",
    "#     trainLoader=trainLoader,\n",
    "#     validationImages=validationImages,\n",
    "#     validationLabels=validationLabels,\n",
    "#     earlyStopping=Config.EARLY_STOPPING\n",
    "# )"
   ]
  },
  {
   "cell_type": "markdown",
   "id": "0681d6ea",
   "metadata": {},
   "source": [
    "### DoubleBarrel with regularization"
   ]
  },
  {
   "cell_type": "code",
   "execution_count": null,
   "id": "81dd4772",
   "metadata": {},
   "outputs": [],
   "source": [
    "# experimentId = 4\n",
    "# runExperiment(\n",
    "#     experimentId=experimentId,\n",
    "#     model=ConvolutionalNeuralNetwork(\n",
    "#         architecture=DoubleBarrelRegularizedArchitecture(),\n",
    "#         epochs=70,\n",
    "#         learningRate=0.001,\n",
    "#         batchSize=Config.BATCH_SIZE,\n",
    "#         weightDecay=0.0001,\n",
    "#     ),\n",
    "#     trainLoader=trainLoader,\n",
    "#     validationImages=validationImages,\n",
    "#     validationLabels=validationLabels,\n",
    "#     earlyStopping=Config.EARLY_STOPPING,\n",
    "#     description=\"Let's try with all data. Lot of epochs. Early stopping\"\n",
    "# )"
   ]
  },
  {
   "cell_type": "markdown",
   "id": "31b42438",
   "metadata": {},
   "source": [
    "### Model testing"
   ]
  },
  {
   "cell_type": "code",
   "execution_count": null,
   "id": "f2d84279",
   "metadata": {},
   "outputs": [
    {
     "name": "stdout",
     "output_type": "stream",
     "text": [
      "eoo\n",
      "Total samples: 11\n",
      "Accuracy on test set: 0.4545\n"
     ]
    }
   ],
   "source": [
    "model=ConvolutionalNeuralNetwork(\n",
    "    architecture=DoubleBarrelRegularizedArchitecture(),\n",
    "    epochs=70,\n",
    "    learningRate=0.001,\n",
    "    batchSize=Config.BATCH_SIZE,\n",
    "    weightDecay=0.0001\n",
    ")\n",
    "\n",
    "loadModel(model, \"experiments/experiment_04 2025-09-20 21.31/model.pth\")\n",
    "\n",
    "testModel(\n",
    "    model,\n",
    "    testLoader=testLoader\n",
    ")"
   ]
  }
 ],
 "metadata": {
  "kernelspec": {
   "display_name": "Python 3",
   "language": "python",
   "name": "python3"
  },
  "language_info": {
   "codemirror_mode": {
    "name": "ipython",
    "version": 3
   },
   "file_extension": ".py",
   "mimetype": "text/x-python",
   "name": "python",
   "nbconvert_exporter": "python",
   "pygments_lexer": "ipython3",
   "version": "3.12.2"
  }
 },
 "nbformat": 4,
 "nbformat_minor": 5
}
