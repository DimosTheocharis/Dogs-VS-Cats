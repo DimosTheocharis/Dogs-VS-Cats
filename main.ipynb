{
 "cells": [
  {
   "cell_type": "markdown",
   "id": "3f46ffdc",
   "metadata": {},
   "source": [
    "# Setup"
   ]
  },
  {
   "cell_type": "markdown",
   "id": "63a63f5f",
   "metadata": {},
   "source": [
    "Make sure that all subfolders are loaded and ready to use"
   ]
  },
  {
   "cell_type": "code",
   "execution_count": 13,
   "id": "de072a19",
   "metadata": {},
   "outputs": [],
   "source": [
    "import sys, os\n",
    "sys.path.append(os.path.abspath(\"..\"))  # add parent directory (project root)"
   ]
  },
  {
   "cell_type": "markdown",
   "id": "96992de8",
   "metadata": {},
   "source": [
    "Import modules, components, functions etc"
   ]
  },
  {
   "cell_type": "code",
   "execution_count": 14,
   "id": "1d42ec4f",
   "metadata": {},
   "outputs": [],
   "source": [
    "import random\n",
    "import torch\n",
    "import torch.nn as nn\n",
    "import matplotlib.pyplot as plt\n",
    "from time import time\n",
    "\n",
    "from src.utils.basics import displayImage, measureAccuracy\n",
    "from src.utils.data import loadData, extractDataFromLoader\n",
    "from src.config import Config\n",
    "from src.cnn import ConvolutionalNeuralNetwork, LayerType, ActivationFunction\n",
    "from src.logger import Logger\n",
    "from src.train import runExperiment\n",
    "from src.architectures.small import SmallArchitecture"
   ]
  },
  {
   "cell_type": "markdown",
   "id": "cd02b6d8",
   "metadata": {},
   "source": [
    "Load data"
   ]
  },
  {
   "cell_type": "code",
   "execution_count": 15,
   "id": "d0017f2b",
   "metadata": {},
   "outputs": [
    {
     "name": "stdout",
     "output_type": "stream",
     "text": [
      "c:\\Users\\dimos\\Desktop\\Δημοσθένης\\Programming\\Dogs-VS-Cats\n",
      "24998\n"
     ]
    }
   ],
   "source": [
    "trainLoader, validationLoader, testLoader = loadData(Config.DATASET_PATH, [Config.TRAINING_SPLIT, Config.VALIDATION_SPLIT, Config.TEST_SPLIT], batchSize=Config.BATCH_SIZE)\n",
    "\n",
    "# Combine all batches of the validation set into single tensors\n",
    "validationImages, validationLabels = extractDataFromLoader(validationLoader)"
   ]
  },
  {
   "cell_type": "markdown",
   "id": "f3c64530",
   "metadata": {},
   "source": [
    "# Running"
   ]
  },
  {
   "cell_type": "markdown",
   "id": "a1c3871a",
   "metadata": {},
   "source": [
    "## Define the experiment"
   ]
  },
  {
   "cell_type": "code",
   "execution_count": 17,
   "id": "f95cc083",
   "metadata": {},
   "outputs": [
    {
     "ename": "TypeError",
     "evalue": "BaseArchitecture.__init__() missing 4 required positional arguments: 'name', 'id', 'description', and 'layers'",
     "output_type": "error",
     "traceback": [
      "\u001b[1;31m---------------------------------------------------------------------------\u001b[0m",
      "\u001b[1;31mTypeError\u001b[0m                                 Traceback (most recent call last)",
      "Cell \u001b[1;32mIn[17], line 5\u001b[0m\n\u001b[0;32m      1\u001b[0m experimentId \u001b[38;5;241m=\u001b[39m \u001b[38;5;241m1\u001b[39m\n\u001b[0;32m      2\u001b[0m runExperiment(\n\u001b[0;32m      3\u001b[0m     experimentId\u001b[38;5;241m=\u001b[39mexperimentId,\n\u001b[0;32m      4\u001b[0m     model\u001b[38;5;241m=\u001b[39mConvolutionalNeuralNetwork(\n\u001b[1;32m----> 5\u001b[0m         architecture\u001b[38;5;241m=\u001b[39m\u001b[43mSmallArchitecture\u001b[49m\u001b[43m(\u001b[49m\u001b[43m)\u001b[49m,\n\u001b[0;32m      6\u001b[0m         epochs\u001b[38;5;241m=\u001b[39m\u001b[38;5;241m10\u001b[39m,\n\u001b[0;32m      7\u001b[0m         learningRate\u001b[38;5;241m=\u001b[39m\u001b[38;5;241m0.001\u001b[39m,\n\u001b[0;32m      8\u001b[0m         batchSize\u001b[38;5;241m=\u001b[39mConfig\u001b[38;5;241m.\u001b[39mBATCH_SIZE,\n\u001b[0;32m      9\u001b[0m         weightDecay\u001b[38;5;241m=\u001b[39m\u001b[38;5;241m0.0001\u001b[39m,\n\u001b[0;32m     10\u001b[0m     ),\n\u001b[0;32m     11\u001b[0m     trainLoader\u001b[38;5;241m=\u001b[39mtrainLoader,\n\u001b[0;32m     12\u001b[0m     validationImages\u001b[38;5;241m=\u001b[39mvalidationImages,\n\u001b[0;32m     13\u001b[0m     validationLabels\u001b[38;5;241m=\u001b[39mvalidationLabels\n\u001b[0;32m     14\u001b[0m )\n",
      "\u001b[1;31mTypeError\u001b[0m: BaseArchitecture.__init__() missing 4 required positional arguments: 'name', 'id', 'description', and 'layers'"
     ]
    }
   ],
   "source": [
    "experimentId = 1\n",
    "runExperiment(\n",
    "    experimentId=experimentId,\n",
    "    model=ConvolutionalNeuralNetwork(\n",
    "        architecture=SmallArchitecture(),\n",
    "        epochs=10,\n",
    "        learningRate=0.001,\n",
    "        batchSize=Config.BATCH_SIZE,\n",
    "        weightDecay=0.0001,\n",
    "    ),\n",
    "    trainLoader=trainLoader,\n",
    "    validationImages=validationImages,\n",
    "    validationLabels=validationLabels\n",
    ")"
   ]
  }
 ],
 "metadata": {
  "kernelspec": {
   "display_name": "Python 3",
   "language": "python",
   "name": "python3"
  },
  "language_info": {
   "codemirror_mode": {
    "name": "ipython",
    "version": 3
   },
   "file_extension": ".py",
   "mimetype": "text/x-python",
   "name": "python",
   "nbconvert_exporter": "python",
   "pygments_lexer": "ipython3",
   "version": "3.12.2"
  }
 },
 "nbformat": 4,
 "nbformat_minor": 5
}
